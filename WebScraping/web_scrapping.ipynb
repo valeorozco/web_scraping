{
 "cells": [
  {
   "cell_type": "markdown",
   "metadata": {},
   "source": [
    "### WEB SCRAPING"
   ]
  },
  {
   "cell_type": "markdown",
   "metadata": {},
   "source": [
    "#### Exercise 1\n",
    "Perform web scraping of two of the three proposed web pages using BeautifulSoup first and Selenium afterwards. \n",
    "\n",
    "- http://quotes.toscrape.com\n",
    "\n",
    "- https://www.bolsamadrid.es\n",
    "\n",
    "- www.wikipedia.es (do a search first and scrape some content)\n",
    "\n"
   ]
  },
  {
   "cell_type": "markdown",
   "metadata": {},
   "source": [
    "The implementation using BeutifulSoup can be found in *webscrape.py* and implementation with Selenium can be found in *webscrape.sel.py*"
   ]
  },
  {
   "cell_type": "markdown",
   "metadata": {},
   "source": [
    "#### Exercise 2\n",
    "Document your data set generated with the information in the different Kaggle files in a Word document."
   ]
  },
  {
   "cell_type": "markdown",
   "metadata": {},
   "source": [
    "### Quotes Data set"
   ]
  },
  {
   "cell_type": "markdown",
   "metadata": {},
   "source": [
    "#### Context\n",
    "The data describes all the quotes and the quote s authors in the http://quotes.toscrape.com/ page."
   ]
  },
  {
   "cell_type": "markdown",
   "metadata": {},
   "source": [
    "#### Content\n",
    "\n",
    "The data set has 2 columns and 44 rows.\n",
    "Column description:\n",
    "\n",
    "* Quotes:\n",
    "  All the quotes retrived from http://quotes.toscrape.com.\n",
    "* Authors: \n",
    "  The author of each of the quotes retrived."
   ]
  },
  {
   "cell_type": "markdown",
   "metadata": {},
   "source": [
    "### Wikipedia Data set"
   ]
  },
  {
   "cell_type": "markdown",
   "metadata": {},
   "source": [
    "The data describes the main information found in Wikipedia from singer Dua Lipa.\n",
    "* Edad\n",
    "* Lugar de nacimiento \n",
    "* Etnia \n",
    "* Lengua materna \n",
    "* Ocupacion \n",
    "* Años activa \n",
    "* Género \n",
    "* Instrumento \n",
    "* Tipo de voz \n",
    "* Sello \n",
    "* sitio web "
   ]
  }
 ],
 "metadata": {
  "kernelspec": {
   "display_name": "Python 3.9.7 ('base')",
   "language": "python",
   "name": "python3"
  },
  "language_info": {
   "codemirror_mode": {
    "name": "ipython",
    "version": 3
   },
   "file_extension": ".py",
   "mimetype": "text/x-python",
   "name": "python",
   "nbconvert_exporter": "python",
   "pygments_lexer": "ipython3",
   "version": "3.9.7"
  },
  "orig_nbformat": 4,
  "vscode": {
   "interpreter": {
    "hash": "2457de16549bda2ea19f462abbb8ee75322c13e2a4d708fd29b237268ab2c90c"
   }
  }
 },
 "nbformat": 4,
 "nbformat_minor": 2
}
